{
 "cells": [
  {
   "cell_type": "code",
   "execution_count": null,
   "metadata": {
    "colab": {
     "base_uri": "https://localhost:8080/"
    },
    "executionInfo": {
     "elapsed": 5123,
     "status": "ok",
     "timestamp": 1673532800907,
     "user": {
      "displayName": "Antonio Vazquez Brust",
      "userId": "14392090834279330975"
     },
     "user_tz": 180
    },
    "id": "L8vkRJamgvcg",
    "outputId": "4c0291f3-6d2e-44fe-99e4-d6bf083353c9"
   },
   "outputs": [],
   "source": [
    "!pip install unetseg"
   ]
  },
  {
   "cell_type": "code",
   "execution_count": null,
   "metadata": {
    "colab": {
     "base_uri": "https://localhost:8080/"
    },
    "executionInfo": {
     "elapsed": 22005,
     "status": "ok",
     "timestamp": 1673532292670,
     "user": {
      "displayName": "Antonio Vazquez Brust",
      "userId": "14392090834279330975"
     },
     "user_tz": 180
    },
    "id": "6SNmrNzBg4Bi",
    "outputId": "1c46f659-6882-4975-bb6d-ce8bfbc24e2e"
   },
   "outputs": [],
   "source": [
    "from google.colab import drive\n",
    "drive.mount('/content/drive')"
   ]
  },
  {
   "cell_type": "code",
   "execution_count": null,
   "metadata": {
    "id": "YCZGJ42J5XlC"
   },
   "outputs": [],
   "source": [
    "## Entrenamiento"
   ]
  },
  {
   "cell_type": "code",
   "execution_count": null,
   "metadata": {
    "executionInfo": {
     "elapsed": 5336,
     "status": "ok",
     "timestamp": 1673532300049,
     "user": {
      "displayName": "Antonio Vazquez Brust",
      "userId": "14392090834279330975"
     },
     "user_tz": 180
    },
    "id": "kf5ISdxA5aXB"
   },
   "outputs": [],
   "source": [
    "from unetseg.train import TrainConfig, train\n",
    "from unetseg.evaluate import plot_data_generator\n",
    "import os"
   ]
  },
  {
   "cell_type": "code",
   "execution_count": null,
   "metadata": {
    "colab": {
     "base_uri": "https://localhost:8080/"
    },
    "executionInfo": {
     "elapsed": 29,
     "status": "ok",
     "timestamp": 1673532370366,
     "user": {
      "displayName": "Antonio Vazquez Brust",
      "userId": "14392090834279330975"
     },
     "user_tz": 180
    },
    "id": "2nLAC_h0TJLE",
    "outputId": "275e5a4a-c9e2-406b-dfc3-9cb7019b6f7d"
   },
   "outputs": [],
   "source": [
    "!ls /content/drive/MyDrive/Basurales/AMBA/labels/"
   ]
  },
  {
   "cell_type": "code",
   "execution_count": null,
   "metadata": {
    "colab": {
     "base_uri": "https://localhost:8080/"
    },
    "executionInfo": {
     "elapsed": 2189,
     "status": "ok",
     "timestamp": 1673533341667,
     "user": {
      "displayName": "Antonio Vazquez Brust",
      "userId": "14392090834279330975"
     },
     "user_tz": 180
    },
    "id": "fHG1i3yvpiqR",
    "outputId": "3346fb29-8e71-4c79-c977-3968150bd453"
   },
   "outputs": [],
   "source": [
    "# Movemos a carpeta local para acelerar el entrenamiento\n",
    "!cp -r $chips_folder /tmp/"
   ]
  },
  {
   "cell_type": "code",
   "execution_count": null,
   "metadata": {
    "executionInfo": {
     "elapsed": 1001,
     "status": "ok",
     "timestamp": 1673491066768,
     "user": {
      "displayName": "Antonio Vazquez Brust",
      "userId": "14392090834279330975"
     },
     "user_tz": 180
    },
    "id": "3q7n0LCsp6i5"
   },
   "outputs": [],
   "source": [
    "local_chips_folder = \"/tmp/CHIPS/\""
   ]
  },
  {
   "cell_type": "code",
   "execution_count": null,
   "metadata": {
    "colab": {
     "base_uri": "https://localhost:8080/"
    },
    "executionInfo": {
     "elapsed": 618,
     "status": "ok",
     "timestamp": 1673491071062,
     "user": {
      "displayName": "Antonio Vazquez Brust",
      "userId": "14392090834279330975"
     },
     "user_tz": 180
    },
    "id": "T8OTR8F4WM8b",
    "outputId": "c9c0302c-e869-49f0-9944-157b67154536"
   },
   "outputs": [],
   "source": [
    "# Cuantas imágenes para entrenar (\"chips\") tenemos?\n",
    "!ls $local_chips_folder/images/ | wc -l"
   ]
  },
  {
   "cell_type": "code",
   "execution_count": null,
   "metadata": {
    "executionInfo": {
     "elapsed": 1527,
     "status": "ok",
     "timestamp": 1673491089728,
     "user": {
      "displayName": "Antonio Vazquez Brust",
      "userId": "14392090834279330975"
     },
     "user_tz": 180
    },
    "id": "Ru82H6CV5blY"
   },
   "outputs": [],
   "source": [
    "# Aqui va la cantidad de imágenes / chips disponibles\n",
    "n_img = 14209\n",
    "\n",
    "# batch size: cantidad de datos que se procesan por vez, puede ser limitado por \n",
    "# la memoria de gpu disponible \n",
    "batch = 128\n",
    "\n",
    "# steps per epoch: típicamente debe ser igual al numero de imágenes / el batch_size \n",
    "# (con un 10% arriba esta bien), si es mayor incrementara el número de imágenes \n",
    "# generadas con image augmentation\n",
    "steps = round((n_img / batch ) * 1.1)\n",
    "\n",
    "# tamaño de la imagen procesada por la UNet (debe ser multiplos de 16 , por ej 160, 320, etc) y lo mas parecida posible a la resolucion de los chips\n",
    "unet_input_size = 160\n",
    "\n",
    "# donde guardar el modelo (ruta y nombre de archivo) // guardamos en drive para preservarlo si se apaga la instancia de colab\n",
    "model_file = '/microbasurales/models/2023_01_chipsize_160_48.h5'\n",
    "\n",
    "config = TrainConfig(width=unet_input_size, \n",
    "                     height=unet_input_size,\n",
    "                     n_channels=3,  #  número de canales de la imagen, rgb -> 3\n",
    "                     n_classes=1, # número de clases a clasificar\n",
    "                     apply_image_augmentation=True, #  si es True , amplia el dataset generando imagenes nuevas a partir de pequeñas variaciones de las ya existentes \n",
    "                     seed=42,\n",
    "                     epochs=300, # Cantidad de veces que el dataset entero puede pasar por el proceso de entrenamiento\n",
    "                     batch_size=batch, \n",
    "                     steps_per_epoch=steps, \n",
    "                     early_stopping_patience=60, # a medida que entrena se guarda los resultados del entrenamiento despues de cada epoch, si el error no varió luego de N iteraciones , se corta el proceso porque se entiende que el error ya disminuyó significativamente \n",
    "                     validation_split=0.2, # se divide la muestra en training y validation para calcular el error durante el proceso de entrenamiento\n",
    "                     test_split=0.1,\n",
    "                     images_path=local_chips_folder, #ruta a las imágenes\n",
    "                     model_path=model_file, # ruta donde guardar el modelo entrenado\n",
    "                     model_architecture='unet',\n",
    "                     class_weights = [1],\n",
    "                     evaluate=True) \n",
    "\n",
    "# con clases desbalanceadas se puede agregar el parámetro class_weights para darle mas peso a las clases minoritarias\n",
    "# p.e.  class_weights = [0.8, 0.2]\n"
   ]
  },
  {
   "cell_type": "code",
   "execution_count": null,
   "metadata": {
    "colab": {
     "base_uri": "https://localhost:8080/",
     "height": 539
    },
    "executionInfo": {
     "elapsed": 692,
     "status": "error",
     "timestamp": 1673491100146,
     "user": {
      "displayName": "Antonio Vazquez Brust",
      "userId": "14392090834279330975"
     },
     "user_tz": 180
    },
    "id": "ti0Xo-U25H1j",
    "outputId": "3aa7da8e-1fd5-466f-f111-ef4573f0f625"
   },
   "outputs": [],
   "source": [
    "plot_data_generator(num_samples=5, fig_size=(10, 10), train_config=config, img_ch = 3)\n"
   ]
  },
  {
   "cell_type": "code",
   "execution_count": null,
   "metadata": {
    "executionInfo": {
     "elapsed": 2,
     "status": "aborted",
     "timestamp": 1673491061111,
     "user": {
      "displayName": "Antonio Vazquez Brust",
      "userId": "14392090834279330975"
     },
     "user_tz": 180
    },
    "id": "-JlIjb7S5MZf"
   },
   "outputs": [],
   "source": [
    "res_config = train(config)"
   ]
  },
  {
   "cell_type": "code",
   "execution_count": null,
   "metadata": {
    "executionInfo": {
     "elapsed": 2,
     "status": "aborted",
     "timestamp": 1673491061111,
     "user": {
      "displayName": "Antonio Vazquez Brust",
      "userId": "14392090834279330975"
     },
     "user_tz": 180
    },
    "id": "YWAL7-Qf5Pxy"
   },
   "outputs": [],
   "source": [
    "import matplotlib.pyplot as plt\n",
    "\n",
    "plt.figure(figsize=(16,4))\n",
    "\n",
    "plt.subplot(121)\n",
    "plt.plot(res_config.history['loss'])\n",
    "plt.plot(res_config.history['val_loss'])\n",
    "plt.title('Loss')\n",
    "plt.ylabel('Loss')\n",
    "plt.xlabel('Epoch')\n",
    "plt.legend(['Train', 'Val'], loc='upper left')\n",
    "\n",
    "plt.subplot(122)\n",
    "plt.plot(res_config.history['mean_io_u_2'])\n",
    "plt.plot(res_config.history['val_mean_io_u_2'])\n",
    "plt.title('mean_iou')\n",
    "plt.ylabel('val_mean_iou')\n",
    "plt.xlabel('Epoch')\n",
    "plt.legend(['Train', 'Val'], loc='upper left')\n",
    "\n",
    "\n",
    "plt.show()"
   ]
  }
 ],
 "metadata": {
  "accelerator": "GPU",
  "colab": {
   "authorship_tag": "ABX9TyO/ckIF6GAewTdrHsx5DI8Z",
   "provenance": []
  },
  "gpuClass": "standard",
  "kernelspec": {
   "display_name": "Python 3",
   "language": "python",
   "name": "python3"
  },
  "language_info": {
   "codemirror_mode": {
    "name": "ipython",
    "version": 3
   },
   "file_extension": ".py",
   "mimetype": "text/x-python",
   "name": "python",
   "nbconvert_exporter": "python",
   "pygments_lexer": "ipython3",
   "version": "3.10.6"
  }
 },
 "nbformat": 4,
 "nbformat_minor": 4
}
